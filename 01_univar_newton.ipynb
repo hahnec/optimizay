{
 "cells": [
  {
   "cell_type": "markdown",
   "metadata": {},
   "source": [
    "# Univariate Newton-Raphson method"
   ]
  },
  {
   "cell_type": "markdown",
   "metadata": {},
   "source": [
    "<div style=\"width: 100%; overflow: hidden;\">\n",
    "     <div style=\"width: 75%; float: left;\"> \n",
    "         This notebook introduces Newton's method given a univariate, i.e. single variable, optimization example where it is the objective to compute $f(x)=\\sqrt[b]{x}$ while $b\\in\\mathbb{N}$ which is considered constant. This scenario suits numerical optimization as it suffices to incrementally approach a solution posed by its inverse $f^{-1}(x)=x^b$ being an exponential function.\n",
    "     <div class=\"alert alert-block alert-info\"><b>Note:</b> The analytical solution $f(x)=\\sqrt[b]{x}=x^{1/b}$ is straightforward and more elegant when implemented as <b>x**(1/b)</b> because it does not require additional libraries such that it should always be preferred over the below jaunt.\n",
    "     </div>\n",
    "     <br>last update: 30/09/2020\n",
    "     </div>\n",
    "     <div style=\"margin-left: 80%;\">\n",
    "        <b>Author</b><br><br>\n",
    "        <a href='http://www.christopherhahne.de', style=\"text-decoration: None; text-align: left;\">\n",
    "            <img align=\"left\" src=\"http://www.christopherhahne.de/images/about.jpg\" width=\"78\"/>\n",
    "            <br><br><br><br><br><br>\n",
    "            <b>Christopher<br>Hahne, PhD</b>\n",
    "        </a>\n",
    "    </div>\n",
    "</div>"
   ]
  },
  {
   "cell_type": "markdown",
   "metadata": {},
   "source": [
    "## Cost function\n",
    "Optimization generally involves the definition of a cost (or loss) function prior to the actual minimization to assess each intermediate result candidate $x_k, \\, k \\in \\mathbb{N}$ by analyzing how much it deviates from the point of convergence. We employ the *squared loss* here as it is differentiable and given by \n",
    "\n",
    "$$L(x_k)=\\left( f^{-1}(x_k)-x)\\right)^2=\\left(x_k^b-x\\right)^2$$ \n",
    "\n",
    "where $x$ represents the requested input which is constant."
   ]
  },
  {
   "cell_type": "code",
   "execution_count": 1,
   "metadata": {},
   "outputs": [],
   "source": [
    "L = lambda x_k, x, b: (x_k**b - x)**2"
   ]
  },
  {
   "cell_type": "markdown",
   "metadata": {},
   "source": [
    "Dual differentation of the loss function is an important requirement for the Newton method. The first-order derivative can be given by\n",
    "\n",
    "$$\\frac{\\partial}{\\partial x_k} L(x_k)=2b\\left(x_k^{b+1}-x_kx\\right)$$ \n",
    "\n",
    "of our cost function is obtained from the [chain rule](https://en.wikipedia.org/wiki/Chain_rule) and written as"
   ]
  },
  {
   "cell_type": "code",
   "execution_count": 2,
   "metadata": {},
   "outputs": [],
   "source": [
    "d1L = lambda x_k, x, b: 2*b*(x_k**(b+1) - x*x_k)"
   ]
  },
  {
   "cell_type": "markdown",
   "metadata": {},
   "source": [
    "Similarly, we obtain the second-order derivative given by \n",
    "\n",
    "$$\\frac{\\partial^2}{\\partial^2 x_k} L(x_k)=2b\\left((b+1)x_k^b-x\\right)$$ \n",
    "\n",
    "which is implemented as"
   ]
  },
  {
   "cell_type": "code",
   "execution_count": 3,
   "metadata": {},
   "outputs": [],
   "source": [
    "d2L = lambda x_k, x, b: 2*b*((b+1)*x_k**b - x)"
   ]
  },
  {
   "cell_type": "markdown",
   "metadata": {},
   "source": [
    "## Newton-Raphson method\n",
    "Using Newton's method, we aim to converge to $f'(x)=0$ which may be achieved by [second-order Taylor expansion](https://en.wikipedia.org/wiki/Newton%27s_method_in_optimization) yielding\n",
    "\n",
    "$$x_{k+1} = x_k - \\frac{f'(x_k)}{f''(x_k)}=x_k-\\left(\\frac{\\partial}{\\partial x_k} L(x_k)\\right)\\left(\\frac{\\partial^2}{\\partial^2 x_k} L(x_k)\\right)^{-1}$$\n",
    "\n",
    "which is implemented hereafter with a tolerance value and maximum iteration number as break conditions."
   ]
  },
  {
   "cell_type": "code",
   "execution_count": 4,
   "metadata": {},
   "outputs": [],
   "source": [
    "def root_newton(x, b, tol=10**-17, max_iter=2000):\n",
    "    x_k = x / 2                    # starting guess\n",
    "    x_list = [x_k]                 # list collecting all candidates\n",
    "    while d1L(x_k, x, b) > tol and len(x_list) < max_iter:\n",
    "        x_k -= d1L(x_k, x, b)/d2L(x_k, x, b)\n",
    "        x_list.append(x_k)\n",
    "    return x_list"
   ]
  },
  {
   "cell_type": "markdown",
   "metadata": {},
   "source": [
    "## Binary search\n",
    "For sake of benchmarking, the [binary search algorithm](https://en.wikipedia.org/wiki/Binary_search_algorithm) is used in the following."
   ]
  },
  {
   "cell_type": "code",
   "execution_count": 5,
   "metadata": {},
   "outputs": [],
   "source": [
    "def root_binary(x, b, tol=10**-16, max_iter=2000):\n",
    "    high = x / 2\n",
    "    low = 0\n",
    "    mean = (high + low) / 2\n",
    "    x_list = [mean]\n",
    "    while abs(mean**b-x) > tol and len(x_list) < max_iter:\n",
    "        mean = (high + low) / 2\n",
    "        if mean**b > x:\n",
    "            high = mean\n",
    "        else:\n",
    "            low = mean\n",
    "        x_list.append(mean)\n",
    "    return x_list"
   ]
  },
  {
   "cell_type": "markdown",
   "metadata": {},
   "source": [
    "## Validation\n",
    "The requested input $x\\in\\mathbb{R}_+$ for root computation and respective exponent $b\\in\\mathbb{N}$ are set hereafter and can be varied to see their effects on the computational process. From the plot below, it can be observed that the Newton method generally converges to a more accurate result with fewer iterations whereas the binary search yields good first approximates oscillating around the convergence point $x$."
   ]
  },
  {
   "cell_type": "code",
   "execution_count": 6,
   "metadata": {},
   "outputs": [
    {
     "name": "stdout",
     "output_type": "stream",
     "text": [
      "Find the root of 144 to the power of 2.\n",
      "Newton: 12.0 w/ 0.0 diverg. after 11 iterations\n",
      "Binary: 12.000000000021828 w/ 2.1827872842550278e-11 diverg. after 41 iterations\n"
     ]
    },
    {
     "data": {
      "image/png": "[encoded data removed]",
      "text/plain": [
       "<Figure size 432x288 with 1 Axes>"
      ]
     },
     "metadata": {
      "needs_background": "light"
     },
     "output_type": "display_data"
    }
   ],
   "source": [
    "# input parameters\n",
    "x = 144\n",
    "b = 2\n",
    "tol = 10**-9\n",
    "print(\"Find the root of %s to the power of %s.\" % (x, b))\n",
    "\n",
    "# run optimization\n",
    "res_nwt = root_newton(x, b, tol)\n",
    "res_bin = root_binary(x, b, tol)\n",
    "\n",
    "# evaluation\n",
    "truth = x**(1/b)\n",
    "print(\"Newton: %s w/ %s diverg. after %d iterations\" % (res_nwt[-1], res_nwt[-1] - truth, len(res_nwt)))\n",
    "print(\"Binary: %s w/ %s diverg. after %d iterations\" % (res_bin[-1], res_bin[-1] - truth, len(res_bin)))\n",
    "\n",
    "import matplotlib.pyplot as plt\n",
    "%matplotlib inline\n",
    "plt.loglog(range(len(res_nwt)), res_nwt, label='Newton method')\n",
    "plt.loglog(range(len(res_bin)), res_bin, label='Binary search')\n",
    "plt.xlim([1, max(len(res_nwt), len(res_bin))])\n",
    "plt.xlabel('Iterations $k$')\n",
    "plt.ylabel('Result $x$')\n",
    "plt.legend()\n",
    "\n",
    "plt.tight_layout()\n",
    "\n",
    "if False:\n",
    "    plt.savefig('./img/univar_loss_plot.png')"
   ]
  }
 ],
 "metadata": {
  "kernelspec": {
   "display_name": "Python 3",
   "language": "python",
   "name": "python3"
  },
  "language_info": {
   "codemirror_mode": {
    "name": "ipython",
    "version": 3
   },
   "file_extension": ".py",
   "mimetype": "text/x-python",
   "name": "python",
   "nbconvert_exporter": "python",
   "pygments_lexer": "ipython3",
   "version": "3.7.7"
  }
 },
 "nbformat": 4,
 "nbformat_minor": 4
}
